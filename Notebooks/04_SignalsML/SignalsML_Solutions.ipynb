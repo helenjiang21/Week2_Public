{
 "cells": [
  {
   "cell_type": "markdown",
   "metadata": {
    "colab_type": "text",
    "id": "9XZEvoDUdSKh"
   },
   "source": [
    "# Machine Learning with Signals Problem Set\n",
    "\n",
    "Per usual, we are going to start by downoloading any packages or data that we need and importing all of the Python packages we will need, too."
   ]
  },
  {
   "cell_type": "code",
   "execution_count": null,
   "metadata": {
    "colab": {
     "base_uri": "https://localhost:8080/",
     "height": 51
    },
    "colab_type": "code",
    "id": "3MIrMPcldSQZ",
    "outputId": "45bca704-e970-42e1-9dee-e7c7193ed38d"
   },
   "outputs": [],
   "source": [
    "# Install Graphvis library if it is not already installed\n",
    "!pip install graphviz \n",
    "\n",
    "# Clone the audio data repository (should cleanly fail if already downloaded)\n",
    "!git clone https://github.com/Jakobovski/free-spoken-digit-dataset.git\n",
    "\n",
    "# Define the path to where the data are downloaded\n",
    "data_dir = '/content/free-spoken-digit-dataset/recordings'"
   ]
  },
  {
   "cell_type": "code",
   "execution_count": 1,
   "metadata": {
    "colab": {
     "base_uri": "https://localhost:8080/",
     "height": 71
    },
    "colab_type": "code",
    "id": "dY2O4r5bW-j7",
    "outputId": "0b48d12f-b988-4294-edf6-c06c83cc5e75"
   },
   "outputs": [],
   "source": [
    "# Import basic system and numerical packages\n",
    "import os\n",
    "import re\n",
    "import numpy as np\n",
    "import pandas as pd\n",
    "\n",
    "# Import statistical and signal processing functions\n",
    "from scipy import signal\n",
    "import scipy.stats.mstats as mstats\n",
    "from sklearn import metrics\n",
    "\n",
    "# Import the scikit-learn functions and models\n",
    "from sklearn.model_selection import train_test_split\n",
    "from sklearn import tree\n",
    "\n",
    "# Import audio i/o and playing functions\n",
    "import scipy.io.wavfile\n",
    "from IPython.display import Audio\n",
    "\n",
    "# Import plotting functionality\n",
    "import matplotlib\n",
    "import matplotlib.pyplot as plt\n",
    "import graphviz\n",
    "import seaborn as sns\n",
    "\n",
    "# Setup the plotting preferencs\n",
    "%matplotlib inline\n",
    "matplotlib.rcParams.update({'font.size': 16})"
   ]
  },
  {
   "cell_type": "markdown",
   "metadata": {
    "colab_type": "text",
    "id": "-DpBRUp2ubJC"
   },
   "source": [
    "##Problem 1:\n",
    "$\\text{Ben Bitdiddle}$, an amateur data scientist, is working on a difficult classication problem given by his boss $\\text{Alyssa P. Hacker}$. Eventually, he comes up with a few features that be beleives are best of the best for his data and plots them below. Based on the visualization in the plot below, which feature is the most useful and which one is the least useful, why? Is Ben really the best?\n",
    "\n",
    "<img src=\"https://github.com/BeaverWorksMedlytics2020/Data_Public/raw/master/Images/Week2/good_or_bad_features.png\">\n"
   ]
  },
  {
   "cell_type": "markdown",
   "metadata": {
    "colab_type": "text",
    "id": "2HG9jkWle0cv"
   },
   "source": [
    "(ANSWER HERE)"
   ]
  },
  {
   "cell_type": "markdown",
   "metadata": {
    "colab_type": "text",
    "id": "TpWVDR_D0gYh"
   },
   "source": [
    "##Problem 2\n",
    "\n",
    "  Here we are revisiting our dataset of recordings of spoken digtis (0-9). Here we will add some twists! Remember to visualize and really think about what features may or may not be useful!"
   ]
  },
  {
   "cell_type": "code",
   "execution_count": 2,
   "metadata": {
    "colab": {
     "base_uri": "https://localhost:8080/",
     "height": 105
    },
    "colab_type": "code",
    "id": "qvpcS7sshZzF",
    "outputId": "66bfa79a-dc52-4e71-8628-5e8d44f7ad77"
   },
   "outputs": [
    {
     "ename": "FileNotFoundError",
     "evalue": "[Errno 2] No such file or directory: '/free-spoken-digit-dataset/recordings'",
     "output_type": "error",
     "traceback": [
      "\u001b[0;31m---------------------------------------------------------------------------\u001b[0m",
      "\u001b[0;31mFileNotFoundError\u001b[0m                         Traceback (most recent call last)",
      "\u001b[0;32m<ipython-input-2-dbf873a5075c>\u001b[0m in \u001b[0;36m<module>\u001b[0;34m\u001b[0m\n\u001b[1;32m      1\u001b[0m \u001b[0;31m# Let's double check that get got all of the files we expected\u001b[0m\u001b[0;34m\u001b[0m\u001b[0;34m\u001b[0m\u001b[0;34m\u001b[0m\u001b[0m\n\u001b[0;32m----> 2\u001b[0;31m \u001b[0mfile_list\u001b[0m \u001b[0;34m=\u001b[0m \u001b[0mos\u001b[0m\u001b[0;34m.\u001b[0m\u001b[0mlistdir\u001b[0m\u001b[0;34m(\u001b[0m\u001b[0;34m\"/free-spoken-digit-dataset/recordings\"\u001b[0m\u001b[0;34m)\u001b[0m\u001b[0;34m\u001b[0m\u001b[0;34m\u001b[0m\u001b[0m\n\u001b[0m\u001b[1;32m      3\u001b[0m \u001b[0mprint\u001b[0m\u001b[0;34m(\u001b[0m\u001b[0;34m'{} audio samples\\n'\u001b[0m\u001b[0;34m.\u001b[0m\u001b[0mformat\u001b[0m\u001b[0;34m(\u001b[0m\u001b[0mlen\u001b[0m\u001b[0;34m(\u001b[0m\u001b[0mfile_list\u001b[0m\u001b[0;34m)\u001b[0m\u001b[0;34m)\u001b[0m\u001b[0;34m)\u001b[0m\u001b[0;34m\u001b[0m\u001b[0;34m\u001b[0m\u001b[0m\n\u001b[1;32m      4\u001b[0m \u001b[0;34m\u001b[0m\u001b[0m\n\u001b[1;32m      5\u001b[0m \u001b[0;31m# list the first few files\u001b[0m\u001b[0;34m\u001b[0m\u001b[0;34m\u001b[0m\u001b[0;34m\u001b[0m\u001b[0m\n",
      "\u001b[0;31mFileNotFoundError\u001b[0m: [Errno 2] No such file or directory: '/free-spoken-digit-dataset/recordings'"
     ]
    }
   ],
   "source": [
    "# Let's double check that get got all of the files we expected\n",
    "file_list = os.listdir(\"/free-spoken-digit-dataset/recordings\")\n",
    "print('{} audio samples\\n'.format(len(file_list)))\n",
    "\n",
    "# list the first few files\n",
    "print('Example files...')\n",
    "print(file_list[0:10])"
   ]
  },
  {
   "cell_type": "markdown",
   "metadata": {
    "colab_type": "text",
    "id": "jPEORGagajex"
   },
   "source": [
    "## Feature Engineering\n",
    "As we saw earlier, some features are more useful for classification than others. Here, we provide you with functions to extract the \"spectral centroid\" and \"spectral flatness\" features from an audio file, but we will also help you start to build your own feature extracting functions."
   ]
  },
  {
   "cell_type": "markdown",
   "metadata": {
    "colab_type": "text",
    "id": "p4pwjmMHcjk5"
   },
   "source": [
    "### Spectral Centroid\n",
    "\n",
    "The [**spectral centroid**](https://en.wikipedia.org/wiki/Spectral_centroid) indicates at which frequency the energy of a spectrum is centered upon. This is like a weighted mean:\n",
    "$$f_c=\\frac{\\sum_kA(k)f(k)}{\\sum_kA(k)}$$\n",
    " \n",
    "where $A(k)$ is the spectral magnitude at frequency bin $k$,  $f(k)$ is the frequency at bin $k$\n",
    " ."
   ]
  },
  {
   "cell_type": "code",
   "execution_count": 3,
   "metadata": {
    "colab": {},
    "colab_type": "code",
    "id": "ThhUeXOCYXAN"
   },
   "outputs": [],
   "source": [
    "def spectral_centroid(ft, f_s):\n",
    "    \"\"\"\n",
    "    Computes the spectral centroid from the FT of a signal\n",
    "\n",
    "    :param ft: output of Fourier Transform (i.e., np.fft.fft())\n",
    "    :param f_s: sampling frequency (or `sampling rate`) (in Hz)\n",
    "    \"\"\"\n",
    "    # Generate the frequencies associated with the fourier transform values\n",
    "    num_samples = len(ft)\n",
    "    freqs = np.linspace(0, f_s, num_samples)\n",
    "\n",
    "    # Grab the magnitude of the relevant part of the fourier transform values\n",
    "    freqs = freqs[0:num_samples//2]\n",
    "    magnitude = np.abs(ft[0:num_samples//2]) * (2/num_samples)\n",
    "    \n",
    "    # Compute the weighted frequency to get the specral centroid\n",
    "    spec_centroid = np.sum(magnitude*freqs)/np.sum(magnitude)\n",
    "\n",
    "    return spec_centroid"
   ]
  },
  {
   "cell_type": "markdown",
   "metadata": {
    "colab_type": "text",
    "id": "POEqXNK7lbUu"
   },
   "source": [
    "### Spectral Flatness\n",
    "\n",
    "The [**spectral flatness**](https://en.wikipedia.org/wiki/Spectral_flatness), also known as Wiener entropy, is a measure used in digital signal processing to characterize an audio spectrum. Spectral flatness is typically measured in decibels, and provides a way to quantify how noise-like a sound is, as opposed to being tone-like."
   ]
  },
  {
   "cell_type": "code",
   "execution_count": 4,
   "metadata": {
    "colab": {},
    "colab_type": "code",
    "id": "LrpDbTp8bZWR"
   },
   "outputs": [],
   "source": [
    "def spectral_flatness(ft):\n",
    "    \"\"\"\n",
    "    Computes the spectral flatness of the FT of a signal\n",
    "    \n",
    "    :param ft: output of Fourier Transform (i.e., np.fft.fft())\n",
    "    \"\"\"\n",
    "    # Grab the magnitude of the relevant part of the fourier transform values\n",
    "    num_samples = len(ft)\n",
    "    magnitude = abs(ft[0:num_samples//2]) * (2/num_samples)\n",
    " \n",
    "    # Spectral flatness is simply the geometric mean of the FT magnitude\n",
    "    # divided by the arithmetic mean of the FT magnitude\n",
    "    spec_flatness = mstats.gmean(magnitude)/np.mean(magnitude)\n",
    "\n",
    "    return spec_flatness"
   ]
  },
  {
   "cell_type": "markdown",
   "metadata": {
    "colab_type": "text",
    "id": "blizQbTb8SU3"
   },
   "source": [
    "### Spectral Roll-off\n",
    "In this section, you are going to write the code to extract a new feature called \"spectral roll-off\". This measure can used to measure the distinguish voice from non-voice audio. This can be used to give a good idea of what frequencies contain the majority of the energy. Spectral roll-off cam be computed from the inequality:\n",
    "\n",
    "$$\\sum^{r}_{k=0} A(k) \\geq 0.85\\sum^{N}_{k=0} A(k) \\text{,}$$\n",
    "\n",
    "where $A(k)$ is the magnitude of the fourier transform at index $k$.\n",
    "\n",
    "The idea is to find the frequency associated with index $r$, where the sum to the magnitudes in the fourier transform from $k=0$ up to $k=r$ is greater than or equal to $85%$ of the sum the magnitudes from $k=0$ to $k=N$."
   ]
  },
  {
   "cell_type": "code",
   "execution_count": 6,
   "metadata": {
    "colab": {},
    "colab_type": "code",
    "id": "RrrsRVURlr-m"
   },
   "outputs": [],
   "source": [
    "def spectral_rolloff(ft, f_s):\n",
    "    # Generate the frequencies associated with the fourier transform values\n",
    "    num_samples = len(ft)\n",
    "    freqs = np.linspace(0, f_s, num_samples)\n",
    "\n",
    "    # Grab the magnitude of the relevant part of the fourier transform values\n",
    "    freqs = freqs[0:num_samples//2]\n",
    "    magnitude = np.abs(ft[0:num_samples//2]) * (2/num_samples)\n",
    "\n",
    "    # Compute the sum of *all* the fourier transform magnitudes\n",
    "    whole_sum = np.sum(magnitude)\n",
    "\n",
    "    # Initialize a variable to hold the cumulative sum of the magnitudes of the\n",
    "    # fourier transform as we loop over it.\n",
    "    cumulative_sum = 0.0\n",
    "\n",
    "    # Loop over each element in the fourier transform\n",
    "    for k, ft_mag in enumerate(magnitude):\n",
    "        # Add the current magnitude of the cumulative sum\n",
    "        cumulative_sum += ft_mag\n",
    "\n",
    "        # Check if the cumulative sum is currently greater than 85% of the\n",
    "        # whole sum, and return the frequency at which this inequality first\n",
    "        # becomes true.\n",
    "        if cumulative_sum >= 0.85*whole_sum:\n",
    "            return freqs[k]"
   ]
  },
  {
   "cell_type": "markdown",
   "metadata": {
    "colab_type": "text",
    "id": "DGcKtBn8U99c"
   },
   "source": [
    "#Implement your own feature extractors\n",
    "Add your own feature! We've added some common techniques based on some popular audio signal processing methods. However, there are plenty out there. The links below contain some information regarding a few possible features to use (including some we have already implemented).\n",
    "\n",
    "Sourc 1: https://musicinformationretrieval.com/spectral_features.html\n",
    "\n",
    "Source 2: https://www.cs.ccu.edu.tw/~wtchu/courses/2014f_MCA/Lectures/Lecture%209%20Audio%20and%20Music%20Analysis%202.pdf\n",
    "\n",
    "There are lots of features to choose from, so pick a few that you think mightc help classify an audio clip (or feel free to create your own ;-) ). \n",
    "\n",
    "A few possible features from these sources:\n",
    "* Spectral Bandwidth\n",
    "* Spectral Flux\n",
    "* Zero Crossing Rate\n",
    "* Spectral Contrast\n",
    "  - This one is tricky because it requires using some form of the \"spectrogram\" (not just the fourier transform), but it also contains *much* more information and may be helpful for signal classification.\n",
    "\n",
    "Other ideas:\n",
    "* The \"Maximum Frequency Value\" shown in the tutorial stil exists. We are not using it here, but don't forget it exists.\n",
    "* Weighted standard deviation of the fourier transform\n",
    "   - This would be analogous to the spectral centroid but for standard deviation\n",
    "* Break up frequency into several \"frequency subbands\", compute centroid within each subband, and use each of those centroid values as a feature\n",
    "* Use the *number* of different peaks in the fourier transform as a feature\n",
    "* The sky is the limit, so get creative!\n"
   ]
  },
  {
   "cell_type": "code",
   "execution_count": null,
   "metadata": {
    "colab": {},
    "colab_type": "code",
    "id": "XfgICUuZVXjy"
   },
   "outputs": [],
   "source": [
    "def feature1_extractor(ft, f_s):\n",
    "    \"\"\"The cool feature extractor I wrote\"\"\"\n",
    "    pass"
   ]
  },
  {
   "cell_type": "code",
   "execution_count": null,
   "metadata": {
    "colab": {},
    "colab_type": "code",
    "id": "UWD7GhXWw3Rw"
   },
   "outputs": [],
   "source": [
    "def feature2_extractor(ft, f_s):\n",
    "    \"\"\"The even cooler feature extractor I wrote\"\"\"\n",
    "    pass"
   ]
  },
  {
   "cell_type": "markdown",
   "metadata": {
    "colab_type": "text",
    "id": "-mPEZTcSkYnZ"
   },
   "source": [
    "## Load full dataset and extract features"
   ]
  },
  {
   "cell_type": "code",
   "execution_count": 7,
   "metadata": {
    "colab": {},
    "colab_type": "code",
    "id": "C2nB-pLjoVlU"
   },
   "outputs": [
    {
     "ename": "NameError",
     "evalue": "name 'data_dir' is not defined",
     "output_type": "error",
     "traceback": [
      "\u001b[0;31m---------------------------------------------------------------------------\u001b[0m",
      "\u001b[0;31mNameError\u001b[0m                                 Traceback (most recent call last)",
      "\u001b[0;32m<ipython-input-7-6b8146690a74>\u001b[0m in \u001b[0;36m<module>\u001b[0;34m\u001b[0m\n\u001b[1;32m     17\u001b[0m \u001b[0;34m\u001b[0m\u001b[0m\n\u001b[1;32m     18\u001b[0m \u001b[0;31m# Loop over each audio file in the data directory\u001b[0m\u001b[0;34m\u001b[0m\u001b[0;34m\u001b[0m\u001b[0;34m\u001b[0m\u001b[0m\n\u001b[0;32m---> 19\u001b[0;31m \u001b[0;32mfor\u001b[0m \u001b[0maudio_file\u001b[0m \u001b[0;32min\u001b[0m \u001b[0mos\u001b[0m\u001b[0;34m.\u001b[0m\u001b[0mlistdir\u001b[0m\u001b[0;34m(\u001b[0m\u001b[0mdata_dir\u001b[0m\u001b[0;34m)\u001b[0m\u001b[0;34m:\u001b[0m\u001b[0;34m\u001b[0m\u001b[0;34m\u001b[0m\u001b[0m\n\u001b[0m\u001b[1;32m     20\u001b[0m     \u001b[0;31m# Try to load the file and parse all of its contents.\u001b[0m\u001b[0;34m\u001b[0m\u001b[0;34m\u001b[0m\u001b[0;34m\u001b[0m\u001b[0m\n\u001b[1;32m     21\u001b[0m     \u001b[0;31m# If something goes wrong, Python will execute the contents of the \"except\"\u001b[0m\u001b[0;34m\u001b[0m\u001b[0;34m\u001b[0m\u001b[0;34m\u001b[0m\u001b[0m\n",
      "\u001b[0;31mNameError\u001b[0m: name 'data_dir' is not defined"
     ]
    }
   ],
   "source": [
    "# We can use the regular expression functionality (`re` package) to robustly\n",
    "# parse the name of each audio file to retrieve the digit spoken, the person\n",
    "# speaking, and the trial number of that digit-speaker pair.\n",
    "#\n",
    "# The following lines create little \"string parsers\" to grab that information.\n",
    "re_digit = re.compile('\\d+_')\n",
    "re_speaker = re.compile('_[a-z]+_')\n",
    "re_trial = re.compile('_\\d.')\n",
    "\n",
    "# Load this information into a dataframe and create columns to hold the features\n",
    "# Spectral Centroid (SC)\n",
    "# Spectral Flatness (SF)\n",
    "##########################################################\n",
    "# ADD THE NAMES OF YOUR FEATURES TO THIS LIST OF COLUMNS #\n",
    "##########################################################\n",
    "df = pd.DataFrame(columns=['digit','speaker', 'SC','SF'])\n",
    "\n",
    "# Loop over each audio file in the data directory\n",
    "for audio_file in os.listdir(data_dir):\n",
    "    # Try to load the file and parse all of its contents.\n",
    "    # If something goes wrong, Python will execute the contents of the \"except\"\n",
    "    # codeblock.\n",
    "    try:\n",
    "        # Use the same string parsers from before and grab info from filename\n",
    "        digit = int(re.match(re_digit, audio_file)[0][:-1])\n",
    "        speaker = re.search(re_speaker, audio_file)[0][1:-1]\n",
    "\n",
    "        # Read in the audio file\n",
    "        full_path_to_audio_file = os.path.join(data_dir, audio_file)\n",
    "        (sample_rate, y) = scipy.io.wavfile.read(full_path_to_audio_file)\n",
    "        \n",
    "        # If the audio recording is in stereo (2-channels), just use one of them\n",
    "        if len(y.shape) == 2:\n",
    "            y = y[:,0]\n",
    "\n",
    "        # Grab the number of samples, compute the sample interval, and generate\n",
    "        # the time-stamps for each of the audio samples\n",
    "        num_samples = len(y)\n",
    "        sample_interval = 1.0/sample_rate\n",
    "        t = np.arange(0, num_samples/sample_rate, sample_interval)\n",
    "\n",
    "        # Compute the Fourier Transform of the audio signal\n",
    "        ft = np.fft.fft(y)\n",
    "\n",
    "        # Calculate the audio features to be stored in the data frame\n",
    "        sc = spectral_centroid(ft, sample_rate)\n",
    "        sf = spectral_flatness(ft)\n",
    "        feature1 = feature1_extractor(ft, sample_rate)\n",
    "        feature2 = feature2_extractor(ft, sample_rate)\n",
    "        ### OPTIONAL: ADD MORE FEATURES HERE!\n",
    "        ###\n",
    "        ### NOTE: IF YOUR FEATURE EXTRACTOR RETURNS MORE THAN ONE VALUE, THEN\n",
    "        ### YOU WILL NEED TO SEPARATE THOSE OUT INTO INDIVIDUAL SCALAR VARIABLES\n",
    "\n",
    "        # Add the info for this file to our dataframe\n",
    "        feature_dict = {'digit':digit, 'speaker':speaker,'SC':sc,'SF':sf,\n",
    "                        'feature1':feature1, # <-- UPDATE FEATURE NAME\n",
    "                        'feature2':feature2} # <-- UPDATE FEATURE NAME\n",
    "                                             # OPTIONAL: EXTEND THE DICTIONARY\n",
    "                                             # WITH EVEN MORE FEATURES!\n",
    "        df = df.append(feature_dict, ignore_index=True)\n",
    "\n",
    "    except Exception as err:\n",
    "        # Something went wrong!  =(\n",
    "        # Notife the user of the audio file that broke and what the error was\n",
    "        print(audio_file)\n",
    "        raise err"
   ]
  },
  {
   "cell_type": "code",
   "execution_count": null,
   "metadata": {
    "colab": {
     "base_uri": "https://localhost:8080/",
     "height": 629
    },
    "colab_type": "code",
    "id": "m1-LovEVqnh2",
    "outputId": "fd87afdf-cea8-4c73-aa34-c5b5dd548087"
   },
   "outputs": [],
   "source": [
    "# Print the head of the dataframe\n",
    "print('df.head():\\n')\n",
    "print(df.head(15))\n",
    "\n",
    "# Also print some summary information about the dataframe\n",
    "print('\\n\\ndf.info():\\n')\n",
    "print(df.info())"
   ]
  },
  {
   "cell_type": "markdown",
   "metadata": {
    "colab_type": "text",
    "id": "OSKTSban0xt7"
   },
   "source": [
    "## Considering Your Features\n",
    "\n",
    "Now that we have successfully extracted a bunch of features from the audio files in this database, let's pause and examine the results."
   ]
  },
  {
   "cell_type": "code",
   "execution_count": null,
   "metadata": {
    "colab": {
     "base_uri": "https://localhost:8080/",
     "height": 1000
    },
    "colab_type": "code",
    "id": "r_k_wABdu2YI",
    "outputId": "8e41c71f-9729-41ca-a701-74b7fd7ba9ec"
   },
   "outputs": [],
   "source": [
    "# Visualize a pairplot of the spectral features. In this instance, color each\n",
    "# datapoint by the *person* speaking the digit to see if each *speaker* has a\n",
    "# distinguishable set of spectral characteristics (e.g., deep vs high voice)\n",
    "g = sns.pairplot(data=df, vars=['SC', 'SF', 'feature1', 'feature2'],\n",
    "                 hue='speaker', corner=True)\n",
    "plt.suptitle('Spectral Features (colored by speaker)', x=0.5, y=1.02)\n",
    "\n",
    "# Clean up the plot appearance\n",
    "plt.gcf().tight_layout()\n",
    "\n",
    "# Repeat this plot, but now color each datapoint by the *digit* being spoken to\n",
    "# see if each *word* has a distinguishable set of spectral characteristics\n",
    "# (e.g., does the buzzing 'z' in 'zero' cause a different set of characteristics\n",
    "# than the shap 't' sound in 'two'?)\n",
    "g = sns.pairplot(data=df, vars=['SC', 'SF', 'feature1', 'feature2'],\n",
    "                 hue='digit', corner=True)\n",
    "plt.suptitle('Spectral Features (colored by digit)', x=0.5, y=1.02)\n",
    "\n",
    "# Clean up the plot appearance\n",
    "plt.gcf().tight_layout()"
   ]
  },
  {
   "cell_type": "markdown",
   "metadata": {
    "colab_type": "text",
    "id": "M1nwGspN8fm9"
   },
   "source": [
    "## Problem 3\n",
    "\n",
    "Does it look like you have engineered some features that help separate the audio files by which digit was being spoken? What about by which person was speaking?"
   ]
  },
  {
   "cell_type": "markdown",
   "metadata": {
    "colab_type": "text",
    "id": "VHXrHOZS768Y"
   },
   "source": [
    "(YOUR ANSWER HERE)"
   ]
  },
  {
   "cell_type": "markdown",
   "metadata": {
    "colab_type": "text",
    "id": "Fh-Q8Cd6755u"
   },
   "source": [
    "You can re-jigger your feature extractors however you want (or add more), and re-run the above cells to examine those effects on the feature space."
   ]
  },
  {
   "cell_type": "markdown",
   "metadata": {
    "colab_type": "text",
    "id": "nT74fm4M1eV-"
   },
   "source": [
    "# Train Machine Learning Algorithm\n",
    "\n",
    "The following section perfectly parallels the content from the tutorial. We are simply copying it over here to the exercises so that you can see if your features helped classify the audio data."
   ]
  },
  {
   "cell_type": "code",
   "execution_count": 8,
   "metadata": {
    "colab": {
     "base_uri": "https://localhost:8080/",
     "height": 51
    },
    "colab_type": "code",
    "id": "UdTb80ywsnIJ",
    "outputId": "35064947-e442-4bea-828d-18f76b423943"
   },
   "outputs": [
    {
     "name": "stdout",
     "output_type": "stream",
     "text": [
      "Classifying speaker using...\n",
      "features: ['SC', 'digit', 'SF']\n"
     ]
    }
   ],
   "source": [
    "# Select the name of the column to be used as the desired 'label' output\n",
    "# (For these files, it makes sense to use either 'speaker' or 'digit')\n",
    "label = 'speaker'\n",
    "\n",
    "# Create a list of features to be used in the classification process.\n",
    "# We use the 'set' object in Python to quickly remove the unwanted columns\n",
    "#\n",
    "# NOTE: Add any columns you *do not* want to be included in the training\n",
    "# algorithm to the \"columns_to_remove\" variable.\n",
    "columns_to_remove = set([label, 'file', 'trial'])\n",
    "features = set(df.columns) - columns_to_remove\n",
    "features = list(features)\n",
    "\n",
    "print('Classifying {} using...'.format(label))\n",
    "print('features: {}'.format(features))"
   ]
  },
  {
   "cell_type": "code",
   "execution_count": 9,
   "metadata": {
    "colab": {},
    "colab_type": "code",
    "id": "GnBZfexpwggY"
   },
   "outputs": [],
   "source": [
    "# Convert the data in the 'speaker', 'digit', and 'trial' columns of the\n",
    "# dataframe into the 'Categorical' type.\n",
    "df.speaker = pd.Categorical(df.speaker)\n",
    "df.digit = pd.Categorical(df.digit)"
   ]
  },
  {
   "cell_type": "code",
   "execution_count": 10,
   "metadata": {
    "colab": {
     "base_uri": "https://localhost:8080/",
     "height": 238
    },
    "colab_type": "code",
    "id": "kwFYJAyAwp_B",
    "outputId": "70432729-2709-49af-e584-b3e0556ba716"
   },
   "outputs": [
    {
     "name": "stdout",
     "output_type": "stream",
     "text": [
      "<class 'pandas.core.frame.DataFrame'>\n",
      "RangeIndex: 0 entries\n",
      "Data columns (total 4 columns):\n",
      "digit      0 non-null category\n",
      "speaker    0 non-null category\n",
      "SC         0 non-null object\n",
      "SF         0 non-null object\n",
      "dtypes: category(2), object(2)\n",
      "memory usage: 236.0+ bytes\n"
     ]
    }
   ],
   "source": [
    "# If the speaker is in the set of features used to classify the audio files,\n",
    "# then the string speaker value should be converted to its numerical version.\n",
    "if 'speaker' in features:\n",
    "    # Add a column containing the numerically encoded version of speaker name\n",
    "    df['speaker_code'] = df.speaker.cat.codes\n",
    "\n",
    "    # Replace the 'speaker' feature with the 'speaker_code' feature\n",
    "    features.remove('speaker')\n",
    "    features.append('speaker_code')\n",
    "\n",
    "    # Double check that there are not duplicate entries in the list of features\n",
    "    # by converting to a `set` object (which automatically removes duplicate\n",
    "    # entries) then convert back `list` object.\n",
    "    features = list(set(features))\n",
    "\n",
    "# Update the user on what columns and content remain in the datafram\n",
    "df.info()"
   ]
  },
  {
   "cell_type": "markdown",
   "metadata": {
    "colab_type": "text",
    "id": "V4CH6ZfdzEbA"
   },
   "source": [
    "Next we split the data into training and test sets."
   ]
  },
  {
   "cell_type": "code",
   "execution_count": null,
   "metadata": {
    "colab": {},
    "colab_type": "code",
    "id": "POmoLVIe1d2k"
   },
   "outputs": [],
   "source": [
    "# split X and y into training and testing sets\n",
    "# NOTE: Using convention that X = features, y = label\n",
    "X_train, X_test, y_train, y_test = train_test_split(\n",
    "    df.loc[:,features], df[label], test_size=0.25,\n",
    "    random_state=0, stratify = df[label])"
   ]
  },
  {
   "cell_type": "markdown",
   "metadata": {
    "colab_type": "text",
    "id": "PYx9GHfizKaS"
   },
   "source": [
    "Now, with the correct training features and labels, we can train a machine learning classification model. To start with, let's consider a decision tree."
   ]
  },
  {
   "cell_type": "code",
   "execution_count": null,
   "metadata": {
    "colab": {},
    "colab_type": "code",
    "id": "wvVI50ci1eAH"
   },
   "outputs": [],
   "source": [
    "# Instantiate a DecisionTree model\n",
    "model = tree.DecisionTreeClassifier(max_depth=4)\n",
    "\n",
    "# Fit the model to the training data\n",
    "model.fit(X_train, y_train)"
   ]
  },
  {
   "cell_type": "code",
   "execution_count": null,
   "metadata": {
    "colab": {},
    "colab_type": "code",
    "id": "l5TWpNhE1d9x"
   },
   "outputs": [],
   "source": [
    "# Convert each class name into a string representation\n",
    "class_names = [str(c) for c in model.classes_]\n",
    "\n",
    "# Generate the data to visualize the decision tree\n",
    "dot_data = tree.export_graphviz(model, out_file=None, \n",
    "                         feature_names=features,  \n",
    "                         class_names=class_names,  \n",
    "                         filled=True, rounded=True) \n",
    "\n",
    "# Visualize the tree from that exported data\n",
    "graph = graphviz.Source(dot_data)  \n",
    "graph"
   ]
  },
  {
   "cell_type": "markdown",
   "metadata": {
    "colab_type": "text",
    "id": "vy9xs8UU4XTq"
   },
   "source": [
    "## Evaluate on Test Data"
   ]
  },
  {
   "cell_type": "code",
   "execution_count": null,
   "metadata": {
    "colab": {},
    "colab_type": "code",
    "id": "P7IgU64x6QAY"
   },
   "outputs": [],
   "source": [
    "# Visualize the confusion matrix\n",
    "def plot_cmatrix(cm,labels,title='Confusion Matrix'):\n",
    "    \"\"\"\n",
    "    Plot the confusion matrix for the classifier\n",
    "\n",
    "    :param cm: the actual confusion matrix\n",
    "    :param labels: the labels to add along the axes of the matrix\n",
    "    :param title: the title to place over the confusion matrix plot\n",
    "    \"\"\"\n",
    "    # Generate a new figure and axes instance\n",
    "    fig = plt.figure()\n",
    "    ax = fig.add_subplot(111)\n",
    "\n",
    "    # Display the confusion matrix (attempt to account for normalization)\n",
    "    row_totals = np.sum(cm, axis=1)\n",
    "    vmax_val = row_totals.max() if row_totals.max() > 1 else 1.0\n",
    "    ax_im = ax.imshow(cm, cmap='Reds', vmin=0, vmax=vmax_val)\n",
    "\n",
    "    # Annotate the figure\n",
    "    plt.title(title, fontsize=20)\n",
    "    fig.colorbar(ax_im)\n",
    "    ax.set_xticks(range(len(labels)))\n",
    "    ax.set_yticks(range(len(labels)))\n",
    "    ax.set_xticklabels(labels, fontsize=16, rotation=70)\n",
    "    ax.set_yticklabels(labels, fontsize=16)\n",
    "    plt.xlabel('Predicted', fontsize=16)\n",
    "    plt.ylabel('True', fontsize=16)\n",
    "    plt.show()"
   ]
  },
  {
   "cell_type": "code",
   "execution_count": null,
   "metadata": {
    "colab": {},
    "colab_type": "code",
    "id": "Q6nWEv1M4Xf9"
   },
   "outputs": [],
   "source": [
    "# Predict class label probabilities\n",
    "labels=np.sort(y_test.unique())\n",
    "y_test_pred = model.predict(X_test)\n",
    "\n",
    "cm = metrics.confusion_matrix(y_test,y_test_pred, labels)\n",
    "plot_cmatrix(cm, labels)"
   ]
  },
  {
   "cell_type": "markdown",
   "metadata": {
    "colab_type": "text",
    "id": "h_-B4Ay05qC2"
   },
   "source": [
    "# Conclusion\n",
    "\n",
    "For consistency with the tutorial, we have used a decision tree to classify the data, but you could train a *different* classifier. In particular, do you recall if there is a classifier that may help separate features that are all mingled together like some of these features are?"
   ]
  }
 ],
 "metadata": {
  "colab": {
   "collapsed_sections": [],
   "name": "SignalsML_Solutions.ipynb",
   "provenance": [],
   "toc_visible": true
  },
  "kernelspec": {
   "display_name": "Python 3",
   "language": "python",
   "name": "python3"
  },
  "language_info": {
   "codemirror_mode": {
    "name": "ipython",
    "version": 3
   },
   "file_extension": ".py",
   "mimetype": "text/x-python",
   "name": "python",
   "nbconvert_exporter": "python",
   "pygments_lexer": "ipython3",
   "version": "3.7.3"
  }
 },
 "nbformat": 4,
 "nbformat_minor": 1
}
